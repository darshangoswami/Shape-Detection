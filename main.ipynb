{
 "cells": [
  {
   "cell_type": "code",
   "execution_count": 1,
   "metadata": {},
   "outputs": [],
   "source": [
    "# Import necessary libraries\n",
    "import numpy as np\n",
    "import matplotlib.pyplot as plt\n",
    "from PIL import Image\n",
    "import cv2"
   ]
  },
  {
   "cell_type": "markdown",
   "metadata": {},
   "source": [
    "# Problem1"
   ]
  },
  {
   "cell_type": "code",
   "execution_count": 2,
   "metadata": {},
   "outputs": [],
   "source": [
    "def create_gaussian_kernel(k, s):\n",
    "    \"\"\"\n",
    "    Create a 2D Gaussian kernel.\n",
    "    \"\"\"\n",
    "    ax = np.arange(-k // 2 + 1., k // 2 + 1.)\n",
    "    xx, yy = np.meshgrid(ax, ax)\n",
    "    kernel = np.exp(-(xx**2 + yy**2) / (2. * s**2))\n",
    "    return kernel / np.sum(kernel)"
   ]
  },
  {
   "cell_type": "code",
   "execution_count": 3,
   "metadata": {},
   "outputs": [],
   "source": [
    "def apply_convolution(image, kernel):\n",
    "    \"\"\"\n",
    "    Apply convolution to the image using the given kernel.\n",
    "    \"\"\"\n",
    "    m, n = kernel.shape\n",
    "    y, x = image.shape\n",
    "    y = y - m + 1\n",
    "    x = x - n + 1\n",
    "    output = np.zeros((y,x))\n",
    "    for i in range(y):\n",
    "        for j in range(x):\n",
    "            output[i,j] = np.sum(image[i:i+m, j:j+n]*kernel)\n",
    "    return output"
   ]
  },
  {
   "cell_type": "code",
   "execution_count": 4,
   "metadata": {},
   "outputs": [],
   "source": [
    "def gradient_edge_detector(image, sigma):\n",
    "    \"\"\"\n",
    "    Perform gradient-based edge detection as per PDF instructions.\n",
    "    \"\"\"\n",
    "    # Create Gaussian kernel\n",
    "    kernel_size = int(6 * sigma + 1)  # Ensure kernel size is odd\n",
    "    if kernel_size % 2 == 0:\n",
    "        kernel_size += 1\n",
    "    gaussian_kernel = create_gaussian_kernel(kernel_size, sigma)\n",
    "    \n",
    "    # Smooth the image with a Gaussian filter\n",
    "    smoothed = apply_convolution(image, gaussian_kernel)\n",
    "    \n",
    "    # Compute horizontal and vertical derivatives\n",
    "    dx_kernel = np.array([[-1, 0, 1]])\n",
    "    dy_kernel = np.array([[-1], [0], [1]])\n",
    "    \n",
    "    grad_x = apply_convolution(smoothed, dx_kernel)\n",
    "    grad_y = apply_convolution(smoothed, dy_kernel)\n",
    "    \n",
    "    # Ensure grad_x and grad_y have the same shape\n",
    "    min_shape = (min(grad_x.shape[0], grad_y.shape[0]), min(grad_x.shape[1], grad_y.shape[1]))\n",
    "    grad_x = grad_x[:min_shape[0], :min_shape[1]]\n",
    "    grad_y = grad_y[:min_shape[0], :min_shape[1]]\n",
    "    \n",
    "    # Compute gradient magnitude and orientation\n",
    "    magnitude = np.sqrt(grad_x**2 + grad_y**2)\n",
    "    orientation = np.arctan2(grad_y, grad_x)\n",
    "    \n",
    "    return magnitude, orientation"
   ]
  },
  {
   "cell_type": "code",
   "execution_count": 5,
   "metadata": {},
   "outputs": [],
   "source": [
    "def plot_results(image, magnitude, orientation):\n",
    "    \"\"\"\n",
    "    Plot the original image, gradient magnitude, and gradient orientation.\n",
    "    \"\"\"\n",
    "    plt.figure(figsize=(15, 5))\n",
    "    \n",
    "    plt.subplot(1, 3, 1)\n",
    "    plt.imshow(image, cmap='gray')\n",
    "    plt.title('Original Image')\n",
    "    plt.axis('off')\n",
    "    \n",
    "    plt.subplot(1, 3, 2)\n",
    "    plt.imshow(magnitude, cmap='gray')\n",
    "    plt.title('Gradient Magnitude')\n",
    "    plt.axis('off')\n",
    "    \n",
    "    plt.subplot(1, 3, 3)\n",
    "    step = 10  # Adjust this to change the density of arrows\n",
    "    y, x = np.mgrid[step//2:magnitude.shape[0]:step, step//2:magnitude.shape[1]:step]\n",
    "    u = np.cos(orientation[y, x])\n",
    "    v = np.sin(orientation[y, x])\n",
    "    plt.quiver(x, y, u, v, color='r', angles='xy', scale_units='xy', scale=0.1)\n",
    "    plt.title('Gradient Orientation')\n",
    "    plt.gca().invert_yaxis()\n",
    "    plt.axis('off')\n",
    "    \n",
    "    plt.tight_layout()\n",
    "    plt.show()"
   ]
  },
  {
   "cell_type": "code",
   "execution_count": 6,
   "metadata": {},
   "outputs": [],
   "source": [
    "#Load and preprocess the image\n",
    "image = np.array(Image.open('./1.png').convert('L'))\n",
    "image = image.astype(np.float32) / 255.0  # Normalize to [0, 1]\n",
    "\n",
    "# Set parameter\n",
    "sigma = 1.0\n",
    "\n",
    "# Apply gradient-based edge detection\n",
    "magnitude, orientation = gradient_edge_detector(image, sigma)"
   ]
  },
  {
   "cell_type": "code",
   "execution_count": null,
   "metadata": {},
   "outputs": [],
   "source": [
    "# Plot results\n",
    "plot_results(image, magnitude, orientation)"
   ]
  },
  {
   "cell_type": "code",
   "execution_count": null,
   "metadata": {},
   "outputs": [],
   "source": [
    "# You can experiment with different sigma values here\n",
    "sigmas = [0.5, 1.0, 2.0]\n",
    "for sigma in sigmas:\n",
    "    magnitude, orientation = gradient_edge_detector(image, sigma)\n",
    "    plot_results(image, magnitude, orientation)\n",
    "    print(f\"Results for sigma = {sigma}\")"
   ]
  }
 ],
 "metadata": {
  "kernelspec": {
   "display_name": "venv",
   "language": "python",
   "name": "python3"
  },
  "language_info": {
   "codemirror_mode": {
    "name": "ipython",
    "version": 3
   },
   "file_extension": ".py",
   "mimetype": "text/x-python",
   "name": "python",
   "nbconvert_exporter": "python",
   "pygments_lexer": "ipython3",
   "version": "3.12.6"
  }
 },
 "nbformat": 4,
 "nbformat_minor": 2
}
